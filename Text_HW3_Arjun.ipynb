{
 "cells": [
  {
   "cell_type": "code",
   "execution_count": 1,
   "metadata": {
    "collapsed": true
   },
   "outputs": [],
   "source": [
    "import pandas as pd"
   ]
  },
  {
   "cell_type": "code",
   "execution_count": 2,
   "metadata": {
    "collapsed": true
   },
   "outputs": [],
   "source": [
    "ss = pd.read_csv('Assignment 3 Sentiment Scores.csv')"
   ]
  },
  {
   "cell_type": "code",
   "execution_count": 3,
   "metadata": {
    "collapsed": false
   },
   "outputs": [
    {
     "data": {
      "text/html": [
       "<div>\n",
       "<table border=\"1\" class=\"dataframe\">\n",
       "  <thead>\n",
       "    <tr style=\"text-align: right;\">\n",
       "      <th></th>\n",
       "      <th>ES</th>\n",
       "      <th>LS</th>\n",
       "      <th>RX</th>\n",
       "      <th>A8</th>\n",
       "      <th>A6</th>\n",
       "      <th>3series</th>\n",
       "      <th>5series</th>\n",
       "      <th>7series</th>\n",
       "      <th>XJ</th>\n",
       "      <th>Sclass</th>\n",
       "    </tr>\n",
       "  </thead>\n",
       "  <tbody>\n",
       "    <tr>\n",
       "      <th>0</th>\n",
       "      <td>NaN</td>\n",
       "      <td>NaN</td>\n",
       "      <td>4.0</td>\n",
       "      <td>3.0</td>\n",
       "      <td>NaN</td>\n",
       "      <td>NaN</td>\n",
       "      <td>NaN</td>\n",
       "      <td>5.0</td>\n",
       "      <td>2.0</td>\n",
       "      <td>1.0</td>\n",
       "    </tr>\n",
       "    <tr>\n",
       "      <th>1</th>\n",
       "      <td>NaN</td>\n",
       "      <td>NaN</td>\n",
       "      <td>3.0</td>\n",
       "      <td>2.0</td>\n",
       "      <td>2.0</td>\n",
       "      <td>2.0</td>\n",
       "      <td>2.0</td>\n",
       "      <td>2.0</td>\n",
       "      <td>NaN</td>\n",
       "      <td>NaN</td>\n",
       "    </tr>\n",
       "    <tr>\n",
       "      <th>2</th>\n",
       "      <td>NaN</td>\n",
       "      <td>4.0</td>\n",
       "      <td>NaN</td>\n",
       "      <td>NaN</td>\n",
       "      <td>NaN</td>\n",
       "      <td>3.0</td>\n",
       "      <td>NaN</td>\n",
       "      <td>3.0</td>\n",
       "      <td>NaN</td>\n",
       "      <td>3.0</td>\n",
       "    </tr>\n",
       "    <tr>\n",
       "      <th>3</th>\n",
       "      <td>NaN</td>\n",
       "      <td>2.0</td>\n",
       "      <td>NaN</td>\n",
       "      <td>2.0</td>\n",
       "      <td>NaN</td>\n",
       "      <td>NaN</td>\n",
       "      <td>NaN</td>\n",
       "      <td>2.0</td>\n",
       "      <td>4.0</td>\n",
       "      <td>2.0</td>\n",
       "    </tr>\n",
       "    <tr>\n",
       "      <th>4</th>\n",
       "      <td>NaN</td>\n",
       "      <td>3.0</td>\n",
       "      <td>3.0</td>\n",
       "      <td>NaN</td>\n",
       "      <td>NaN</td>\n",
       "      <td>NaN</td>\n",
       "      <td>2.0</td>\n",
       "      <td>NaN</td>\n",
       "      <td>NaN</td>\n",
       "      <td>3.0</td>\n",
       "    </tr>\n",
       "  </tbody>\n",
       "</table>\n",
       "</div>"
      ],
      "text/plain": [
       "   ES   LS   RX   A8   A6  3series  5series  7series   XJ  Sclass\n",
       "0 NaN  NaN  4.0  3.0  NaN      NaN      NaN      5.0  2.0     1.0\n",
       "1 NaN  NaN  3.0  2.0  2.0      2.0      2.0      2.0  NaN     NaN\n",
       "2 NaN  4.0  NaN  NaN  NaN      3.0      NaN      3.0  NaN     3.0\n",
       "3 NaN  2.0  NaN  2.0  NaN      NaN      NaN      2.0  4.0     2.0\n",
       "4 NaN  3.0  3.0  NaN  NaN      NaN      2.0      NaN  NaN     3.0"
      ]
     },
     "execution_count": 3,
     "metadata": {},
     "output_type": "execute_result"
    }
   ],
   "source": [
    "ss.head()"
   ]
  },
  {
   "cell_type": "code",
   "execution_count": 4,
   "metadata": {
    "collapsed": false
   },
   "outputs": [],
   "source": [
    "senti = ss.copy()"
   ]
  },
  {
   "cell_type": "code",
   "execution_count": 5,
   "metadata": {
    "collapsed": false
   },
   "outputs": [],
   "source": [
    "for i in range(len(ss.columns)):\n",
    "    for ii in range(i+1,len(ss.columns)):\n",
    "            temp = ss.columns[i] +'_'+ss.columns[ii]\n",
    "            senti[temp]=ss[ss.columns[i]]-ss[ss.columns[ii]]"
   ]
  },
  {
   "cell_type": "code",
   "execution_count": 6,
   "metadata": {
    "collapsed": false
   },
   "outputs": [
    {
     "data": {
      "text/html": [
       "<div>\n",
       "<table border=\"1\" class=\"dataframe\">\n",
       "  <thead>\n",
       "    <tr style=\"text-align: right;\">\n",
       "      <th></th>\n",
       "      <th>ES</th>\n",
       "      <th>LS</th>\n",
       "      <th>RX</th>\n",
       "      <th>A8</th>\n",
       "      <th>A6</th>\n",
       "      <th>3series</th>\n",
       "      <th>5series</th>\n",
       "      <th>7series</th>\n",
       "      <th>XJ</th>\n",
       "      <th>Sclass</th>\n",
       "      <th>...</th>\n",
       "      <th>3series_5series</th>\n",
       "      <th>3series_7series</th>\n",
       "      <th>3series_XJ</th>\n",
       "      <th>3series_Sclass</th>\n",
       "      <th>5series_7series</th>\n",
       "      <th>5series_XJ</th>\n",
       "      <th>5series_Sclass</th>\n",
       "      <th>7series_XJ</th>\n",
       "      <th>7series_Sclass</th>\n",
       "      <th>XJ_Sclass</th>\n",
       "    </tr>\n",
       "  </thead>\n",
       "  <tbody>\n",
       "    <tr>\n",
       "      <th>0</th>\n",
       "      <td>NaN</td>\n",
       "      <td>NaN</td>\n",
       "      <td>4.0</td>\n",
       "      <td>3.0</td>\n",
       "      <td>NaN</td>\n",
       "      <td>NaN</td>\n",
       "      <td>NaN</td>\n",
       "      <td>5.0</td>\n",
       "      <td>2.0</td>\n",
       "      <td>1.0</td>\n",
       "      <td>...</td>\n",
       "      <td>NaN</td>\n",
       "      <td>NaN</td>\n",
       "      <td>NaN</td>\n",
       "      <td>NaN</td>\n",
       "      <td>NaN</td>\n",
       "      <td>NaN</td>\n",
       "      <td>NaN</td>\n",
       "      <td>3.0</td>\n",
       "      <td>4.0</td>\n",
       "      <td>1.0</td>\n",
       "    </tr>\n",
       "    <tr>\n",
       "      <th>1</th>\n",
       "      <td>NaN</td>\n",
       "      <td>NaN</td>\n",
       "      <td>3.0</td>\n",
       "      <td>2.0</td>\n",
       "      <td>2.0</td>\n",
       "      <td>2.0</td>\n",
       "      <td>2.0</td>\n",
       "      <td>2.0</td>\n",
       "      <td>NaN</td>\n",
       "      <td>NaN</td>\n",
       "      <td>...</td>\n",
       "      <td>0.0</td>\n",
       "      <td>0.0</td>\n",
       "      <td>NaN</td>\n",
       "      <td>NaN</td>\n",
       "      <td>0.0</td>\n",
       "      <td>NaN</td>\n",
       "      <td>NaN</td>\n",
       "      <td>NaN</td>\n",
       "      <td>NaN</td>\n",
       "      <td>NaN</td>\n",
       "    </tr>\n",
       "    <tr>\n",
       "      <th>2</th>\n",
       "      <td>NaN</td>\n",
       "      <td>4.0</td>\n",
       "      <td>NaN</td>\n",
       "      <td>NaN</td>\n",
       "      <td>NaN</td>\n",
       "      <td>3.0</td>\n",
       "      <td>NaN</td>\n",
       "      <td>3.0</td>\n",
       "      <td>NaN</td>\n",
       "      <td>3.0</td>\n",
       "      <td>...</td>\n",
       "      <td>NaN</td>\n",
       "      <td>0.0</td>\n",
       "      <td>NaN</td>\n",
       "      <td>0.0</td>\n",
       "      <td>NaN</td>\n",
       "      <td>NaN</td>\n",
       "      <td>NaN</td>\n",
       "      <td>NaN</td>\n",
       "      <td>0.0</td>\n",
       "      <td>NaN</td>\n",
       "    </tr>\n",
       "    <tr>\n",
       "      <th>3</th>\n",
       "      <td>NaN</td>\n",
       "      <td>2.0</td>\n",
       "      <td>NaN</td>\n",
       "      <td>2.0</td>\n",
       "      <td>NaN</td>\n",
       "      <td>NaN</td>\n",
       "      <td>NaN</td>\n",
       "      <td>2.0</td>\n",
       "      <td>4.0</td>\n",
       "      <td>2.0</td>\n",
       "      <td>...</td>\n",
       "      <td>NaN</td>\n",
       "      <td>NaN</td>\n",
       "      <td>NaN</td>\n",
       "      <td>NaN</td>\n",
       "      <td>NaN</td>\n",
       "      <td>NaN</td>\n",
       "      <td>NaN</td>\n",
       "      <td>-2.0</td>\n",
       "      <td>0.0</td>\n",
       "      <td>2.0</td>\n",
       "    </tr>\n",
       "    <tr>\n",
       "      <th>4</th>\n",
       "      <td>NaN</td>\n",
       "      <td>3.0</td>\n",
       "      <td>3.0</td>\n",
       "      <td>NaN</td>\n",
       "      <td>NaN</td>\n",
       "      <td>NaN</td>\n",
       "      <td>2.0</td>\n",
       "      <td>NaN</td>\n",
       "      <td>NaN</td>\n",
       "      <td>3.0</td>\n",
       "      <td>...</td>\n",
       "      <td>NaN</td>\n",
       "      <td>NaN</td>\n",
       "      <td>NaN</td>\n",
       "      <td>NaN</td>\n",
       "      <td>NaN</td>\n",
       "      <td>NaN</td>\n",
       "      <td>-1.0</td>\n",
       "      <td>NaN</td>\n",
       "      <td>NaN</td>\n",
       "      <td>NaN</td>\n",
       "    </tr>\n",
       "  </tbody>\n",
       "</table>\n",
       "<p>5 rows × 55 columns</p>\n",
       "</div>"
      ],
      "text/plain": [
       "   ES   LS   RX   A8   A6  3series  5series  7series   XJ  Sclass    ...      \\\n",
       "0 NaN  NaN  4.0  3.0  NaN      NaN      NaN      5.0  2.0     1.0    ...       \n",
       "1 NaN  NaN  3.0  2.0  2.0      2.0      2.0      2.0  NaN     NaN    ...       \n",
       "2 NaN  4.0  NaN  NaN  NaN      3.0      NaN      3.0  NaN     3.0    ...       \n",
       "3 NaN  2.0  NaN  2.0  NaN      NaN      NaN      2.0  4.0     2.0    ...       \n",
       "4 NaN  3.0  3.0  NaN  NaN      NaN      2.0      NaN  NaN     3.0    ...       \n",
       "\n",
       "   3series_5series  3series_7series  3series_XJ  3series_Sclass  \\\n",
       "0              NaN              NaN         NaN             NaN   \n",
       "1              0.0              0.0         NaN             NaN   \n",
       "2              NaN              0.0         NaN             0.0   \n",
       "3              NaN              NaN         NaN             NaN   \n",
       "4              NaN              NaN         NaN             NaN   \n",
       "\n",
       "   5series_7series  5series_XJ  5series_Sclass  7series_XJ  7series_Sclass  \\\n",
       "0              NaN         NaN             NaN         3.0             4.0   \n",
       "1              0.0         NaN             NaN         NaN             NaN   \n",
       "2              NaN         NaN             NaN         NaN             0.0   \n",
       "3              NaN         NaN             NaN        -2.0             0.0   \n",
       "4              NaN         NaN            -1.0         NaN             NaN   \n",
       "\n",
       "   XJ_Sclass  \n",
       "0        1.0  \n",
       "1        NaN  \n",
       "2        NaN  \n",
       "3        2.0  \n",
       "4        NaN  \n",
       "\n",
       "[5 rows x 55 columns]"
      ]
     },
     "execution_count": 6,
     "metadata": {},
     "output_type": "execute_result"
    }
   ],
   "source": [
    "senti[:5]"
   ]
  },
  {
   "cell_type": "code",
   "execution_count": 7,
   "metadata": {
    "collapsed": false
   },
   "outputs": [],
   "source": [
    "import numpy as np\n",
    "import re\n",
    "\n",
    "use = []\n",
    "for q in senti.columns[10:]:\n",
    "    #qq = sum(senti[q].dropna())/(len(senti[q]) - senti[q].count(None))\n",
    "    p1,p2 = re.split('_',q)\n",
    "    neg = (senti[q]<0)\n",
    "    neg_sent  = senti[q][neg].sum()/senti[q][neg].count()\n",
    "    pos = (senti[q]>0)\n",
    "    pos_sent  = senti[q][pos].sum()/senti[q][pos].count()\n",
    "    use.append((p1,p2,pos_sent,neg_sent))"
   ]
  },
  {
   "cell_type": "code",
   "execution_count": 8,
   "metadata": {
    "collapsed": false
   },
   "outputs": [
    {
     "data": {
      "text/plain": [
       "[('ES', 'LS', 1.1666666666666667, -2.0),\n",
       " ('ES', 'RX', 1.6666666666666667, -2.0),\n",
       " ('ES', 'A8', 3.4, -3.0),\n",
       " ('ES', 'A6', 6.0, -1.6666666666666667),\n",
       " ('ES', '3series', 3.25, -6.0),\n",
       " ('ES', '5series', 4.0, -5.0),\n",
       " ('ES', '7series', 3.6, -2.8),\n",
       " ('ES', 'XJ', 1.0, -1.0),\n",
       " ('ES', 'Sclass', 3.2857142857142856, -2.6153846153846154),\n",
       " ('LS', 'RX', 3.4, -1.1428571428571428)]"
      ]
     },
     "execution_count": 8,
     "metadata": {},
     "output_type": "execute_result"
    }
   ],
   "source": [
    "use[:10]"
   ]
  },
  {
   "cell_type": "code",
   "execution_count": 9,
   "metadata": {
    "collapsed": false
   },
   "outputs": [
    {
     "data": {
      "image/png": "[encoded data removed]",
      "text/plain": [
       "<matplotlib.figure.Figure at 0x97dfc88>"
      ]
     },
     "metadata": {},
     "output_type": "display_data"
    }
   ],
   "source": [
    "import matplotlib.pyplot as plt\n",
    "import networkx as nx\n",
    "\n",
    "%matplotlib inline\n",
    "\n",
    "G = nx.DiGraph()\n",
    "\n",
    "G.add_nodes_from(ss.columns)\n",
    "\n",
    "for a,b,c,d in use:\n",
    "    if c!=0 :\n",
    "        G.add_edge(b,a,{'weight':c})\n",
    "    if d!=0:\n",
    "        G.add_edge(a,b,{'weight':abs(d)})\n",
    "        \n",
    "plt.figure()\n",
    "nx.draw(G, with_labels=True)\n",
    "plt.show()"
   ]
  },
  {
   "cell_type": "markdown",
   "metadata": {
    "collapsed": true
   },
   "source": [
    "## Q2"
   ]
  },
  {
   "cell_type": "code",
   "execution_count": 10,
   "metadata": {
    "collapsed": false
   },
   "outputs": [
    {
     "data": {
      "text/plain": [
       "{'3series': 0.13597392541734463,\n",
       " '5series': 0.08844760203403688,\n",
       " '7series': 0.10100269095219229,\n",
       " 'A6': 0.07129678684991539,\n",
       " 'A8': 0.0986064568886881,\n",
       " 'ES': 0.1093078176978172,\n",
       " 'LS': 0.11135565657040597,\n",
       " 'RX': 0.10551334503607714,\n",
       " 'Sclass': 0.10370503165602211,\n",
       " 'XJ': 0.0747906868975003}"
      ]
     },
     "execution_count": 10,
     "metadata": {},
     "output_type": "execute_result"
    }
   ],
   "source": [
    "pr = nx.pagerank(G, alpha=0.85,weight='weight')\n",
    "pr"
   ]
  },
  {
   "cell_type": "code",
   "execution_count": 11,
   "metadata": {
    "collapsed": false
   },
   "outputs": [
    {
     "data": {
      "text/html": [
       "<div>\n",
       "<table border=\"1\" class=\"dataframe\">\n",
       "  <thead>\n",
       "    <tr style=\"text-align: right;\">\n",
       "      <th></th>\n",
       "      <th>Model_x</th>\n",
       "      <th>pr</th>\n",
       "      <th>Model_y</th>\n",
       "      <th>Sales</th>\n",
       "    </tr>\n",
       "  </thead>\n",
       "  <tbody>\n",
       "    <tr>\n",
       "      <th>0</th>\n",
       "      <td>XJ</td>\n",
       "      <td>0.074791</td>\n",
       "      <td>Jaguar XJ</td>\n",
       "      <td>6600</td>\n",
       "    </tr>\n",
       "    <tr>\n",
       "      <th>1</th>\n",
       "      <td>7series</td>\n",
       "      <td>0.101003</td>\n",
       "      <td>Mercedes S-class</td>\n",
       "      <td>25000</td>\n",
       "    </tr>\n",
       "    <tr>\n",
       "      <th>2</th>\n",
       "      <td>Sclass</td>\n",
       "      <td>0.103705</td>\n",
       "      <td>BMW 7-series</td>\n",
       "      <td>14000</td>\n",
       "    </tr>\n",
       "    <tr>\n",
       "      <th>3</th>\n",
       "      <td>RX</td>\n",
       "      <td>0.105513</td>\n",
       "      <td>Lexus RX</td>\n",
       "      <td>120000</td>\n",
       "    </tr>\n",
       "    <tr>\n",
       "      <th>4</th>\n",
       "      <td>LS</td>\n",
       "      <td>0.111356</td>\n",
       "      <td>Lexus LS</td>\n",
       "      <td>30000</td>\n",
       "    </tr>\n",
       "    <tr>\n",
       "      <th>5</th>\n",
       "      <td>A6</td>\n",
       "      <td>0.071297</td>\n",
       "      <td>Audi A6</td>\n",
       "      <td>20000</td>\n",
       "    </tr>\n",
       "    <tr>\n",
       "      <th>6</th>\n",
       "      <td>A8</td>\n",
       "      <td>0.098606</td>\n",
       "      <td>Audi A8</td>\n",
       "      <td>12000</td>\n",
       "    </tr>\n",
       "    <tr>\n",
       "      <th>7</th>\n",
       "      <td>3series</td>\n",
       "      <td>0.135974</td>\n",
       "      <td>BMW 3-series</td>\n",
       "      <td>220000</td>\n",
       "    </tr>\n",
       "    <tr>\n",
       "      <th>8</th>\n",
       "      <td>ES</td>\n",
       "      <td>0.109308</td>\n",
       "      <td>Lexus ES</td>\n",
       "      <td>135000</td>\n",
       "    </tr>\n",
       "    <tr>\n",
       "      <th>9</th>\n",
       "      <td>5series</td>\n",
       "      <td>0.088448</td>\n",
       "      <td>BMW 5-series</td>\n",
       "      <td>60000</td>\n",
       "    </tr>\n",
       "  </tbody>\n",
       "</table>\n",
       "</div>"
      ],
      "text/plain": [
       "   Model_x        pr           Model_y   Sales\n",
       "0       XJ  0.074791         Jaguar XJ    6600\n",
       "1  7series  0.101003  Mercedes S-class   25000\n",
       "2   Sclass  0.103705      BMW 7-series   14000\n",
       "3       RX  0.105513          Lexus RX  120000\n",
       "4       LS  0.111356          Lexus LS   30000\n",
       "5       A6  0.071297           Audi A6   20000\n",
       "6       A8  0.098606           Audi A8   12000\n",
       "7  3series  0.135974      BMW 3-series  220000\n",
       "8       ES  0.109308          Lexus ES  135000\n",
       "9  5series  0.088448      BMW 5-series   60000"
      ]
     },
     "execution_count": 11,
     "metadata": {},
     "output_type": "execute_result"
    }
   ],
   "source": [
    "pr_df = pd.DataFrame.from_dict(pr,orient='index')\n",
    "pr_df = pr_df.reset_index()\n",
    "pr_df.columns=['Model','pr']\n",
    "cs = pd.read_csv('car_sales.csv')\n",
    "cs = pd.merge(pr_df, cs, left_index=True, right_index=True, how='outer')\n",
    "cs"
   ]
  },
  {
   "cell_type": "code",
   "execution_count": 14,
   "metadata": {
    "collapsed": false
   },
   "outputs": [
    {
     "name": "stdout",
     "output_type": "stream",
     "text": [
      "             pr     Sales\n",
      "pr     1.000000  0.733949\n",
      "Sales  0.733949  1.000000\n"
     ]
    },
    {
     "data": {
      "text/plain": [
       "SpearmanrResult(correlation=0.69696969696969691, pvalue=0.025096675882251829)"
      ]
     },
     "execution_count": 14,
     "metadata": {},
     "output_type": "execute_result"
    }
   ],
   "source": [
    "import scipy\n",
    "\n",
    "print cs.corr()\n",
    "scipy.stats.spearmanr(cs['pr'], cs['Sales'])"
   ]
  },
  {
   "cell_type": "code",
   "execution_count": 15,
   "metadata": {
    "collapsed": false
   },
   "outputs": [
    {
     "data": {
      "text/plain": [
       "[<matplotlib.lines.Line2D at 0xd3026a0>]"
      ]
     },
     "execution_count": 15,
     "metadata": {},
     "output_type": "execute_result"
    },
    {
     "data": {
      "image/png": "[encoded data removed]",
      "text/plain": [
       "<matplotlib.figure.Figure at 0xccadf28>"
      ]
     },
     "metadata": {},
     "output_type": "display_data"
    }
   ],
   "source": [
    "plt.plot(cs['pr'], cs['Sales'], marker='o', linestyle='')"
   ]
  },
  {
   "cell_type": "markdown",
   "metadata": {},
   "source": [
    "## Q3"
   ]
  },
  {
   "cell_type": "code",
   "execution_count": 16,
   "metadata": {
    "collapsed": false
   },
   "outputs": [
    {
     "data": {
      "text/plain": [
       "[\" as a mercedes fan i was sad but i knew that those were not typical situations you're absolutely right take my previous '01 sclass this was pre '03 refresh the very model that cr calls the worst buy in the last decade well the only problem i had was the usual comand failure that everyone experienced and one hid bulb 41 000 miles of everyday driving and that was it no abc air suspension failures a c problems no electrical grimlins much unlike my '98 ls noda and to my '05 s65 amg two new rear tires was all the maintenance it required for 10 000 miles of onwership of course the usual oil lube and other mb amg stuff but nothing out of the scheduled maintenance and the tires were due to my over zealous driving habits so many people jump the gun about mb's and bimmers being hugely unreliable take for instance porsche 10 years ago it was thought to be nothing more than a weekend toy because of what people assumed to be unreliable now it's the most reliable company in the biz hands down despite it's many sophisticated electronic devices trick suspension awd complicated powertrain and precious construction i have not had not one issue with my a8 w12 yes it's very german but very reliable not something i can say about the two japanese ls's i've owned but again case by case experience not all are complete lemons just like not all will be as reliable as advertised \",\n",
       " \" by the way the new gs next lsand new 150k sports car are all italian designs do you know the designer because every article says these were designed by lexus in japan especially that sports car concept the gs itself started out as an italian design in 1993 and has since been altered greatly lexus is working with an italian designer i read that somewhere but the cars you're seeing now the gs and that sports car concepts aren't of italian design if they are thats most unfortunate the next lsmight be though all luxury car brands are highly reguarded at least the ones we discuss on this board doesn't mean there won't be price resistance every brand has their limits i'll believe a 600hp lexus sedan when i see it i hardly see toyota approving such a car with such a pointless amount of horsepower m\",\n",
       " \" come now does anyone really believe that whatever price difference there is between the a8 and lexusls that that price difference accounts for the lsselling 5 4 times as many units u s cy2004 nope no one said that price is the sole factor only that is but one factor in sales especially with the sclass and 7series the a8 especially the swb model is much closer to the lexusls in price than either the s or 7series of course there are many other factors as to why the a8 doesn't sell compared to the lexusls or even sclass and 7series audi's rep isn't in the same league as mercedes bmw or lexus at this level of the market in most buyers minds and then there is audi's bad reliability rep which was never good in the first place and i think a lot of people really get scared when they hear that the a8 is made of aluminum and lastly i've heard this myself countless times at audi dealer autoshows and such for that money i may as well get the benz m\"]"
      ]
     },
     "execution_count": 16,
     "metadata": {},
     "output_type": "execute_result"
    }
   ],
   "source": [
    "# Import\n",
    "reviews = pd.read_csv('Assignment 3 Edmunds Posts.csv')\n",
    "\n",
    "# Convert to list\n",
    "reviews = reviews[\"Posts\"].tolist()\n",
    "\n",
    "# Remove unwanted punctuations\n",
    "for i in range(len(reviews)):\n",
    "    #reviews[i] = re.sub(r'[^\\w\\s]',' ',reviews[i])\n",
    "    reviews[i] = re.sub(r\"[^\\w\\d']+\",' ',reviews[i]) #remove everything except digit,letter,apostrophe\n",
    "    reviews[i] = reviews[i].lower()\n",
    "    #reviews[i] = re.sub(r'\\s\\s',' ',reviews[i]) #removes double whitespace\n",
    "    \n",
    "reviews[:3]\n",
    "\n",
    "# t change - lexusES, index range"
   ]
  },
  {
   "cell_type": "code",
   "execution_count": 17,
   "metadata": {
    "collapsed": false
   },
   "outputs": [
    {
     "data": {
      "text/plain": [
       "[[[\"previous '01 sclass pre '03\", 'sclass'],\n",
       "  [\"unlike '98 ls noda '05\", 'ls'],\n",
       "  ['one issue a8 w12 yes', 'a8'],\n",
       "  [\"two japanese ls 's 've\", 'ls']],\n",
       " [['price difference a8 lexusls price', 'a8'],\n",
       "  ['sales especially sclass 7series a8', 'sclass'],\n",
       "  ['especially sclass 7series a8 especially', '7series'],\n",
       "  ['sclass 7series a8 especially swb', 'a8'],\n",
       "  ['price either 7series course many', '7series'],\n",
       "  [\"many factors a8 n't sell\", 'a8'],\n",
       "  ['lexusls even sclass 7series audi', 'sclass'],\n",
       "  [\"even sclass 7series audi 's\", '7series'],\n",
       "  ['scared hear a8 made aluminum', 'a8']],\n",
       " [['second part rx incredibly well', 'rx']],\n",
       " [['extensions lexuses rx mainstream cars', 'rx'],\n",
       "  ['cars lexuses rx competed 325', 'rx'],\n",
       "  ['gs competed 3series 530i 545i', '3series'],\n",
       "  ['headed much sclass sales worldwide', 'sclass'],\n",
       "  ['build mercedes sclass according necessarily', 'sclass'],\n",
       "  ['according necessarily 7series point anyone', '7series'],\n",
       "  ['anyone make sclass except mb', 'sclass']],\n",
       " [['heritage features sclass gets sure', 'sclass']],\n",
       " [['also think sclass could stand', 'sclass'],\n",
       "  ['market works sclass sales means', 'sclass'],\n",
       "  ['55k lexuses rx gs gx', 'rx'],\n",
       "  ['projected cl sclass 65 models', 'sclass'],\n",
       "  ['chart cl sclass add somewhere', 'sclass'],\n",
       "  ['ml clk sclass models given', 'sclass']],\n",
       " [['phaeton cousin a8 remiain favorites', 'a8'],\n",
       "  ['quattroporte like a8 optional wooden', 'a8']],\n",
       " [[\"new '09 a8 gets compete\", 'a8']]]"
      ]
     },
     "execution_count": 17,
     "metadata": {},
     "output_type": "execute_result"
    }
   ],
   "source": [
    "# Creating list of models\n",
    "car_models = ['xj','sclass','s class','7 series','7series','rx','ls','a6','a8','3 series','3series','es','5 series','5series']\n",
    "\n",
    "# Remove stopwords\n",
    "\n",
    "\n",
    "# Checking to see if reviews have them\n",
    "import nltk\n",
    "from nltk.corpus import stopwords\n",
    "from nltk.stem.wordnet import WordNetLemmatizer\n",
    "\n",
    "temp = []\n",
    "review_temp = []\n",
    "parsed = []\n",
    "\n",
    "for m in range(len(reviews)-221):\n",
    "    tokenized = nltk.word_tokenize(reviews[m])\n",
    "    tokenized = [word for word in tokenized if word not in stopwords.words('english')]\n",
    "    for i,j in enumerate(tokenized):\n",
    "        lmtzr = WordNetLemmatizer()\n",
    "        lmtzr.lemmatize(j)\n",
    "        if j in car_models:\n",
    "            temp.extend([tokenized[i-2],tokenized[i-1],tokenized[i],tokenized[i+1],tokenized[i+2]])\n",
    "            temp = \" \".join(temp)\n",
    "            car_tup = [temp,tokenized[i]]\n",
    "            review_temp.append(car_tup)\n",
    "            temp = []\n",
    "    if review_temp:\n",
    "        parsed.append(review_temp)\n",
    "    review_temp = []\n",
    "\n",
    "parsed"
   ]
  },
  {
   "cell_type": "code",
   "execution_count": 21,
   "metadata": {
    "collapsed": false
   },
   "outputs": [
    {
     "data": {
      "text/plain": [
       "[[[-0.16666666666666666, 'sclass'], [0.0, 'ls'], [0.0, 'a8'], [0.0, 'ls']],\n",
       " [[0.0, 'a8'],\n",
       "  [0.0, 'sclass'],\n",
       "  [0.0, '7series'],\n",
       "  [0.0, 'a8'],\n",
       "  [0.5, '7series'],\n",
       "  [0.5, 'a8'],\n",
       "  [0.0, 'sclass'],\n",
       "  [0.0, '7series'],\n",
       "  [0.0, 'a8']],\n",
       " [[0.45, 'rx']],\n",
       " [[0.0, 'rx'],\n",
       "  [0.0, 'rx'],\n",
       "  [0.0, '3series'],\n",
       "  [0.2, 'sclass'],\n",
       "  [0.0, 'sclass'],\n",
       "  [0.0, '7series'],\n",
       "  [0.0, 'sclass']],\n",
       " [[0.5, 'sclass']],\n",
       " [[0.0, 'sclass'],\n",
       "  [0.0, 'sclass'],\n",
       "  [0.0, 'rx'],\n",
       "  [0.0, 'sclass'],\n",
       "  [0.0, 'sclass'],\n",
       "  [0.0, 'sclass']],\n",
       " [[0.0, 'a8'], [0.0, 'a8']],\n",
       " [[0.13636363636363635, 'a8']]]"
      ]
     },
     "execution_count": 21,
     "metadata": {},
     "output_type": "execute_result"
    }
   ],
   "source": [
    "from textblob import TextBlob\n",
    "\n",
    "for i,j in enumerate(parsed):\n",
    "    for a,b in enumerate(j):\n",
    "        blob = TextBlob(b[0])\n",
    "        b[0] = blob.sentiment.polarity\n",
    "            \n",
    "parsed"
   ]
  },
  {
   "cell_type": "code",
   "execution_count": null,
   "metadata": {
    "collapsed": false
   },
   "outputs": [],
   "source": []
  },
  {
   "cell_type": "code",
   "execution_count": null,
   "metadata": {
    "collapsed": false
   },
   "outputs": [],
   "source": [
    "#Create a cooccurence matrix - com which contains words within the bigrams + words adjacent to it - +-1\n",
    "com = defaultdict(lambda : defaultdict(int))\n",
    "for i in range(len(car_models[:1000])):\n",
    "    for m in range(len(extracted_words[i])):\n",
    "            a = []\n",
    "            for b in nltk.bigrams(yrs[i]):\n",
    "                a.append((b[0]+\" \"+b[1]))\n",
    "            index_word = a.index(extracted_words[i][m])\n",
    "            for j in range(max(0,index_word-1),min(len(yrs[i]),index_word+3)):\n",
    "                w1, w2 = [extracted_words[i][m], yrs[i][j]] \n",
    "                com[w1][w2] += 1"
   ]
  },
  {
   "cell_type": "code",
   "execution_count": 25,
   "metadata": {
    "collapsed": false
   },
   "outputs": [
    {
     "name": "stdout",
     "output_type": "stream",
     "text": [
      "[-0.16666666666666666, 'sclass']\n"
     ]
    }
   ],
   "source": [
    "b = parsed[0][0]\n",
    "print b\n",
    "\n",
    "for l in range(5):\n",
    "    print l"
   ]
  },
  {
   "cell_type": "code",
   "execution_count": null,
   "metadata": {
    "collapsed": false
   },
   "outputs": [],
   "source": [
    "blah = parsed\n",
    "\n",
    "for i,j in enumerate(blah):\n",
    "    for a,b in enumerate(j):\n",
    "        for l,m in enumerate(b):\n",
    "                if m[l] == m:\n",
    "                    b[0] += val"
   ]
  },
  {
   "cell_type": "code",
   "execution_count": null,
   "metadata": {
    "collapsed": true
   },
   "outputs": [],
   "source": []
  }
 ],
 "metadata": {
  "anaconda-cloud": {},
  "kernelspec": {
   "display_name": "Python [Root]",
   "language": "python",
   "name": "Python [Root]"
  },
  "language_info": {
   "codemirror_mode": {
    "name": "ipython",
    "version": 2
   },
   "file_extension": ".py",
   "mimetype": "text/x-python",
   "name": "python",
   "nbconvert_exporter": "python",
   "pygments_lexer": "ipython2",
   "version": "2.7.11"
  }
 },
 "nbformat": 4,
 "nbformat_minor": 0
}
