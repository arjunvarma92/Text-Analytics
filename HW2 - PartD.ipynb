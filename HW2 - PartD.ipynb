{
 "cells": [
  {
   "cell_type": "code",
   "execution_count": 3,
   "metadata": {
    "collapsed": false
   },
   "outputs": [
    {
     "name": "stdout",
     "output_type": "stream",
     "text": [
      "Populating the interactive namespace from numpy and matplotlib\n"
     ]
    }
   ],
   "source": [
    "from pandas import Series, DataFrame\n",
    "import pandas as pd\n",
    "import numpy\n",
    "import nltk\n",
    "from sklearn.metrics import confusion_matrix\n",
    "%pylab inline"
   ]
  },
  {
   "cell_type": "markdown",
   "metadata": {},
   "source": [
    "## PART D"
   ]
  },
  {
   "cell_type": "code",
   "execution_count": null,
   "metadata": {
    "collapsed": true
   },
   "outputs": [],
   "source": [
    "# Read in the data\n",
    "yelp = pd.read_csv('Yelp Data Restaurant Reviews Ratings.csv')\n",
    "\n",
    "# Spliting into high and low\n",
    "yelp[\"Rating_final\"] = np.where((yelp['stars'].isin([4,5])),\"High\",\"Low\")\n",
    "\n",
    "# Take only a random subset of 2000 rows\n",
    "yelp_subset = yelp.sample(frac=.1,random_state=5)\n",
    "yelp_subset = yelp_subset.reset_index()\n",
    "yelp_subset = yelp_subset.drop('index',axis=1)\n",
    "yelp_subset[:3]"
   ]
  },
  {
   "cell_type": "code",
   "execution_count": 18,
   "metadata": {
    "collapsed": false
   },
   "outputs": [
    {
     "data": {
      "text/html": [
       "<div>\n",
       "<table border=\"1\" class=\"dataframe\">\n",
       "  <thead>\n",
       "    <tr style=\"text-align: right;\">\n",
       "      <th></th>\n",
       "      <th>stars</th>\n",
       "      <th>votes_cool</th>\n",
       "      <th>votes_funny</th>\n",
       "      <th>votes_useful</th>\n",
       "      <th>Cheap</th>\n",
       "      <th>Moderate</th>\n",
       "      <th>Expensive</th>\n",
       "      <th>VeryExpensive</th>\n",
       "      <th>American</th>\n",
       "      <th>Chinese</th>\n",
       "      <th>...</th>\n",
       "      <th>Mexican</th>\n",
       "      <th>Thai</th>\n",
       "      <th>Vietnamese</th>\n",
       "      <th>Others</th>\n",
       "      <th>Review</th>\n",
       "      <th>Rating_final</th>\n",
       "      <th>Postive_senti</th>\n",
       "      <th>Negative_senti</th>\n",
       "      <th>Overall_senti</th>\n",
       "      <th>Pred_rating</th>\n",
       "    </tr>\n",
       "  </thead>\n",
       "  <tbody>\n",
       "    <tr>\n",
       "      <th>0</th>\n",
       "      <td>2</td>\n",
       "      <td>0</td>\n",
       "      <td>1</td>\n",
       "      <td>3</td>\n",
       "      <td>0</td>\n",
       "      <td>0</td>\n",
       "      <td>1</td>\n",
       "      <td>0</td>\n",
       "      <td>1</td>\n",
       "      <td>0</td>\n",
       "      <td>...</td>\n",
       "      <td>0</td>\n",
       "      <td>0</td>\n",
       "      <td>0</td>\n",
       "      <td>0</td>\n",
       "      <td>Made reservations for 5:30 PM on a Saturday ni...</td>\n",
       "      <td>Low</td>\n",
       "      <td>3</td>\n",
       "      <td>-4</td>\n",
       "      <td>-1</td>\n",
       "      <td>Low</td>\n",
       "    </tr>\n",
       "    <tr>\n",
       "      <th>1</th>\n",
       "      <td>5</td>\n",
       "      <td>0</td>\n",
       "      <td>1</td>\n",
       "      <td>1</td>\n",
       "      <td>0</td>\n",
       "      <td>1</td>\n",
       "      <td>0</td>\n",
       "      <td>0</td>\n",
       "      <td>1</td>\n",
       "      <td>0</td>\n",
       "      <td>...</td>\n",
       "      <td>0</td>\n",
       "      <td>0</td>\n",
       "      <td>0</td>\n",
       "      <td>0</td>\n",
       "      <td>This place has an awesome Happy Hour. The envi...</td>\n",
       "      <td>High</td>\n",
       "      <td>3</td>\n",
       "      <td>-1</td>\n",
       "      <td>2</td>\n",
       "      <td>High</td>\n",
       "    </tr>\n",
       "    <tr>\n",
       "      <th>2</th>\n",
       "      <td>3</td>\n",
       "      <td>0</td>\n",
       "      <td>0</td>\n",
       "      <td>0</td>\n",
       "      <td>0</td>\n",
       "      <td>0</td>\n",
       "      <td>0</td>\n",
       "      <td>1</td>\n",
       "      <td>1</td>\n",
       "      <td>0</td>\n",
       "      <td>...</td>\n",
       "      <td>0</td>\n",
       "      <td>0</td>\n",
       "      <td>0</td>\n",
       "      <td>0</td>\n",
       "      <td>Noted on the OT reservation it was hubby s 50t...</td>\n",
       "      <td>Low</td>\n",
       "      <td>4</td>\n",
       "      <td>-3</td>\n",
       "      <td>1</td>\n",
       "      <td>High</td>\n",
       "    </tr>\n",
       "  </tbody>\n",
       "</table>\n",
       "<p>3 rows × 26 columns</p>\n",
       "</div>"
      ],
      "text/plain": [
       "   stars  votes_cool  votes_funny  votes_useful  Cheap  Moderate  Expensive  \\\n",
       "0      2           0            1             3      0         0          1   \n",
       "1      5           0            1             1      0         1          0   \n",
       "2      3           0            0             0      0         0          0   \n",
       "\n",
       "   VeryExpensive  American  Chinese     ...       Mexican  Thai  Vietnamese  \\\n",
       "0              0         1        0     ...             0     0           0   \n",
       "1              0         1        0     ...             0     0           0   \n",
       "2              1         1        0     ...             0     0           0   \n",
       "\n",
       "   Others                                             Review  Rating_final  \\\n",
       "0       0  Made reservations for 5:30 PM on a Saturday ni...           Low   \n",
       "1       0  This place has an awesome Happy Hour. The envi...          High   \n",
       "2       0  Noted on the OT reservation it was hubby s 50t...           Low   \n",
       "\n",
       "   Postive_senti  Negative_senti  Overall_senti  Pred_rating  \n",
       "0              3              -4             -1          Low  \n",
       "1              3              -1              2         High  \n",
       "2              4              -3              1         High  \n",
       "\n",
       "[3 rows x 26 columns]"
      ]
     },
     "execution_count": 18,
     "metadata": {},
     "output_type": "execute_result"
    }
   ],
   "source": [
    "# Export yelp_subset\n",
    "yelp_subset.to_csv('yelp_subset.csv',index=False)\n",
    "\n",
    "# Run sentistrength on column 21 of yelp_subset to get positive and negative sentiments of each review\n",
    "# Output from sentistrength: yelp_subset_senti+results.txt\n",
    "\n",
    "# Load back into python\n",
    "yelp_senti = pd.read_table('yelp_subset_senti+results.txt')\n",
    "yelp_senti['Overall_senti'] = yelp_senti['Postive_senti'] + yelp_senti['Negative_senti']\n",
    "\n",
    "# Get predicted ratings\n",
    "yelp_senti[\"Pred_rating\"] = np.where((yelp_senti['Overall_senti'] > 0),\"High\",\"Low\")\n",
    "yelp_senti[:3]"
   ]
  },
  {
   "cell_type": "code",
   "execution_count": 17,
   "metadata": {
    "collapsed": false
   },
   "outputs": [
    {
     "name": "stdout",
     "output_type": "stream",
     "text": [
      "     |      H        |\n",
      "     |      i      L |\n",
      "     |      g      o |\n",
      "     |      h      w |\n",
      "-----+---------------+\n",
      "High | <54.1%> 14.6% |\n",
      " Low |  14.2% <17.2%>|\n",
      "-----+---------------+\n",
      "(row = reference; col = test)\n",
      "\n",
      "The accuracy is: 0.712\n"
     ]
    }
   ],
   "source": [
    "# Checking accuracy\n",
    "y_true = yelp_senti['Rating_final'].tolist()\n",
    "y_pred = yelp_senti['Pred_rating'].tolist()\n",
    "cm_sk = confusion_matrix(y_true, y_pred)\n",
    "\n",
    "cm = nltk.ConfusionMatrix(y_true, y_pred)\n",
    "print (cm.pretty_format(sort_by_count=True, show_percents=True))\n",
    "print 'The accuracy is:',round(float(cm_sk[1][1]+cm_sk[0][0])/float(sum(cm_sk)),3)"
   ]
  },
  {
   "cell_type": "markdown",
   "metadata": {},
   "source": [
    "## PART E"
   ]
  },
  {
   "cell_type": "code",
   "execution_count": 28,
   "metadata": {
    "collapsed": false
   },
   "outputs": [
    {
     "data": {
      "text/plain": [
       "['I ll be honest...I m not a food connoisseur  but I know a good Chicken Fried Steak. Theirs is similar to how my mom makes it  and wow the portions are huge. And for the price? You just can t beat it. No wonder they are so popular and have been around forever. Love me some TexAZ  but be prepared: you get what you pay for  and for under $13 for a dinner don t expect some 5 star meal. Be realistic folks!',\n",
       " 'Made reservations for 5:30 PM on a Saturday night.  I initially wanted a 6 PM reservation but was told that there wasn t anything available.  Got there 5 minutes before 5:30 PM but the door was locked.  WTF!!!  They don t even open the door until exactly 5:30PM.  That was so wrong.  I felt rejected.  All the employees in the restaurant was giving us the stare and no one even bothered to come out to greet us.  So we were finally seated after 5:30 PM.  We were the only customers at the time.  6 PM rolls around and there were only 4 other tables occupied.  There were definitely a whole lot of men and women dressed in all black working at the time and they can t take another reservation at 6PM?  I counted 12 tables occupied at 6:30 PM.  That is such BS how I couldn t even get a 6 PM reservation for 2 people!!!  That person taking my reservation needs to be FIRED!!Service:  Our waiter (TJ) was very professional  knowledgeable  and attentive.  His service was top notch.Atmosphere:  Nice place with upscale decor.  However  the tables are too close to each other.  It is true what other yelpers were talking about when they say they can hear everything from the guests seated next to you.  It s NOT a place for  those who wants an intimate meal.Food:  Great presentation.  Taste was okay.  I tried the Ribeye and homemade Mac and Cheese.  Nothing special.  (Side note:  If you want a nice Ribeye steak  check out Modern Steak s Bone in Ribeye.  It s arguably the best in the valley!)  Honestly  the food wasn t that much better than what you can find on a cruise ship.  The portions were tiny.  For $39  you get 5 thin slices of meat.  If you re a big eater and want to leave the restaurant full  be prepared for a sticker shock at the end of your meal.  The lemon tart was decent and so were the doughnuts.  Some parts of the doughnuts were undercooked though.   The complimentary cotton candy and cookies were nice bonuses.  The cotton candy was tasty but those cookies weren t  very good.  (Side note:  if you want good cookies  go to La Grande Orange.  Tammie Coe makes the best cookies in the valley!)Value:  I did not feel like I got my money s worth.  My bill came out to be $120 with tax and tip.  I don t mind spending money on a nice meal but the quality of the food  service  and atmosphere doesn t justify the money spent.Message to the owner:  If you re going to take a 5:30 PM reservation  open the door a little earlier.  Locking the door makes customers feel very unwanted.  That hostess saw me trying to open the door but didn t bother to do anything about it.  It was my first time there and that did not leave me a very good first impression.']"
      ]
     },
     "execution_count": 28,
     "metadata": {},
     "output_type": "execute_result"
    }
   ],
   "source": [
    "check = yelp_subset['Review']\n",
    "check = check.tolist()\n",
    "check[:2]"
   ]
  },
  {
   "cell_type": "code",
   "execution_count": 39,
   "metadata": {
    "collapsed": false
   },
   "outputs": [],
   "source": [
    "from nltk.tokenize import RegexpTokenizer\n",
    "\n",
    "tokenizer = RegexpTokenizer(r'\\w+')\n",
    "\n"
   ]
  }
 ],
 "metadata": {
  "anaconda-cloud": {},
  "kernelspec": {
   "display_name": "Python [Root]",
   "language": "python",
   "name": "Python [Root]"
  },
  "language_info": {
   "codemirror_mode": {
    "name": "ipython",
    "version": 2
   },
   "file_extension": ".py",
   "mimetype": "text/x-python",
   "name": "python",
   "nbconvert_exporter": "python",
   "pygments_lexer": "ipython2",
   "version": "2.7.11"
  }
 },
 "nbformat": 4,
 "nbformat_minor": 0
}
